{
 "cells": [
  {
   "cell_type": "code",
   "execution_count": 2,
   "id": "c431cdd4",
   "metadata": {},
   "outputs": [],
   "source": [
    "import pickle\n",
    "\n",
    "import pandas as pd\n",
    "import numpy as np"
   ]
  },
  {
   "cell_type": "markdown",
   "id": "f24865ce",
   "metadata": {},
   "source": [
    "# Se leen los datos preprocesados"
   ]
  },
  {
   "cell_type": "code",
   "execution_count": 3,
   "id": "bf7461b6",
   "metadata": {},
   "outputs": [],
   "source": [
    "with open(\"../../data/bicycles/df_bicycles_preprocesed.pk1\", \"rb\") as f:\n",
    "    df_bicycles = pickle.load(f)\n",
    "    \n",
    "with open(\"../../data/weather/df_weather_preprocesed.pk1\", \"rb\") as f:\n",
    "    df_weather = pickle.load(f)    "
   ]
  },
  {
   "cell_type": "markdown",
   "id": "a263435e",
   "metadata": {},
   "source": [
    "# Me aseguro de que la columna que contiene la fecha es del tipo datetime"
   ]
  },
  {
   "cell_type": "code",
   "execution_count": 4,
   "id": "0629c6f2",
   "metadata": {},
   "outputs": [
    {
     "data": {
      "text/plain": [
       "ride_id                      object\n",
       "rideable_type                object\n",
       "started_at           datetime64[ns]\n",
       "ended_at             datetime64[ns]\n",
       "start_station_id             object\n",
       "end_station_id               object\n",
       "member_casual                object\n",
       "year                          int64\n",
       "month                         int64\n",
       "day                           int64\n",
       "time_hms_ms         timedelta64[ns]\n",
       "day_type                     object\n",
       "event                          bool\n",
       "dtype: object"
      ]
     },
     "execution_count": 4,
     "metadata": {},
     "output_type": "execute_result"
    }
   ],
   "source": [
    "df_bicycles.dtypes"
   ]
  },
  {
   "cell_type": "code",
   "execution_count": 5,
   "id": "11473613",
   "metadata": {},
   "outputs": [
    {
     "data": {
      "text/plain": [
       "DATE                      datetime64[ns]\n",
       "temperature                      float64\n",
       "wind_speed                       float64\n",
       "relative_humidity                float64\n",
       "station_level_pressure           float64\n",
       "year                               int32\n",
       "month                              int32\n",
       "day                                int32\n",
       "time_hms_ms                       object\n",
       "dtype: object"
      ]
     },
     "execution_count": 5,
     "metadata": {},
     "output_type": "execute_result"
    }
   ],
   "source": [
    "df_weather.dtypes"
   ]
  },
  {
   "cell_type": "markdown",
   "id": "6bdcd127",
   "metadata": {},
   "source": [
    "# Se realiza un merge con 'neares' para buscar la hora mas cercana"
   ]
  },
  {
   "cell_type": "code",
   "execution_count": 6,
   "id": "8e5b7137",
   "metadata": {},
   "outputs": [],
   "source": [
    "df_bicycles_sorted = df_bicycles.sort_values('started_at')\n",
    "df_weather_sorted = df_weather.sort_values('DATE')\n",
    "\n",
    "df_merged = pd.merge_asof(\n",
    "    df_bicycles_sorted,\n",
    "    df_weather_sorted,\n",
    "    left_on='started_at',\n",
    "    right_on='DATE',\n",
    "    direction='nearest',\n",
    "    tolerance=pd.Timedelta('1h') # Se ajusta lo que se considera el mas cercano\n",
    ")\n",
    "\n",
    "# Se seleccionan solo columnas numéricas (float o int)\n",
    "weather_cols_numeric = df_weather.select_dtypes(include=['float64']).columns.tolist()\n",
    "\n",
    "for col in weather_cols_numeric:\n",
    "    mask_missing = df_merged[col].isna()\n",
    "    \n",
    "    # Media móvil\n",
    "    df_merged.loc[mask_missing, col] = (\n",
    "        df_merged[col].fillna(\n",
    "            df_merged[col].rolling(window=10, min_periods=1).mean()\n",
    "        )\n",
    "    )"
   ]
  },
  {
   "cell_type": "markdown",
   "id": "56a3d428",
   "metadata": {},
   "source": [
    "# Se realizan comprobaciones de los datos"
   ]
  },
  {
   "cell_type": "markdown",
   "id": "0210667f",
   "metadata": {},
   "source": [
    "## Se borra la columna DATE"
   ]
  },
  {
   "cell_type": "code",
   "execution_count": 7,
   "id": "ac3cded6",
   "metadata": {},
   "outputs": [],
   "source": [
    "# Columnas a eliminar\n",
    "cols_to_drop = [\"DATE\"]\n",
    "\n",
    "# Crear una copia del DataFrame sin esas columnas\n",
    "df_merged = df_merged.drop(columns=cols_to_drop).copy()\n"
   ]
  },
  {
   "cell_type": "markdown",
   "id": "d062a0e7",
   "metadata": {},
   "source": [
    "## Se observan los valores nulos"
   ]
  },
  {
   "cell_type": "code",
   "execution_count": 8,
   "id": "df1b9101",
   "metadata": {},
   "outputs": [
    {
     "data": {
      "text/plain": [
       "ride_id                   0\n",
       "rideable_type             0\n",
       "started_at                0\n",
       "ended_at                  0\n",
       "start_station_id          0\n",
       "end_station_id            0\n",
       "member_casual             0\n",
       "year_x                    0\n",
       "month_x                   0\n",
       "day_x                     0\n",
       "time_hms_ms_x             0\n",
       "day_type                  0\n",
       "event                     0\n",
       "temperature               0\n",
       "wind_speed                0\n",
       "relative_humidity         0\n",
       "station_level_pressure    0\n",
       "year_y                    0\n",
       "month_y                   0\n",
       "day_y                     0\n",
       "time_hms_ms_y             0\n",
       "dtype: int64"
      ]
     },
     "execution_count": 8,
     "metadata": {},
     "output_type": "execute_result"
    }
   ],
   "source": [
    "df_merged.isna().sum()"
   ]
  },
  {
   "cell_type": "markdown",
   "id": "b1b1047b",
   "metadata": {},
   "source": [
    "## Se comprueba la cantidad de datos en las columnas"
   ]
  },
  {
   "cell_type": "code",
   "execution_count": 9,
   "id": "0359355f",
   "metadata": {},
   "outputs": [
    {
     "data": {
      "text/plain": [
       "np.int64(9969971)"
      ]
     },
     "execution_count": 9,
     "metadata": {},
     "output_type": "execute_result"
    }
   ],
   "source": [
    "df_merged[\"ride_id\"].count()"
   ]
  },
  {
   "cell_type": "code",
   "execution_count": 10,
   "id": "6d3f5b11",
   "metadata": {},
   "outputs": [
    {
     "data": {
      "text/html": [
       "<div>\n",
       "<style scoped>\n",
       "    .dataframe tbody tr th:only-of-type {\n",
       "        vertical-align: middle;\n",
       "    }\n",
       "\n",
       "    .dataframe tbody tr th {\n",
       "        vertical-align: top;\n",
       "    }\n",
       "\n",
       "    .dataframe thead th {\n",
       "        text-align: right;\n",
       "    }\n",
       "</style>\n",
       "<table border=\"1\" class=\"dataframe\">\n",
       "  <thead>\n",
       "    <tr style=\"text-align: right;\">\n",
       "      <th></th>\n",
       "      <th>started_at</th>\n",
       "      <th>ended_at</th>\n",
       "      <th>year_x</th>\n",
       "      <th>month_x</th>\n",
       "      <th>day_x</th>\n",
       "      <th>time_hms_ms_x</th>\n",
       "      <th>temperature</th>\n",
       "      <th>wind_speed</th>\n",
       "      <th>relative_humidity</th>\n",
       "      <th>station_level_pressure</th>\n",
       "      <th>year_y</th>\n",
       "      <th>month_y</th>\n",
       "      <th>day_y</th>\n",
       "    </tr>\n",
       "  </thead>\n",
       "  <tbody>\n",
       "    <tr>\n",
       "      <th>count</th>\n",
       "      <td>9969971</td>\n",
       "      <td>9969971</td>\n",
       "      <td>9.969971e+06</td>\n",
       "      <td>9.969971e+06</td>\n",
       "      <td>9.969971e+06</td>\n",
       "      <td>9969971</td>\n",
       "      <td>9.969971e+06</td>\n",
       "      <td>9.969971e+06</td>\n",
       "      <td>9.969971e+06</td>\n",
       "      <td>9.969971e+06</td>\n",
       "      <td>9.969971e+06</td>\n",
       "      <td>9.969971e+06</td>\n",
       "      <td>9.969971e+06</td>\n",
       "    </tr>\n",
       "    <tr>\n",
       "      <th>mean</th>\n",
       "      <td>2023-03-13 02:04:12.545116416</td>\n",
       "      <td>2023-03-13 02:20:39.132660992</td>\n",
       "      <td>2.022689e+03</td>\n",
       "      <td>6.593871e+00</td>\n",
       "      <td>1.572793e+01</td>\n",
       "      <td>0 days 14:36:09.941747974</td>\n",
       "      <td>1.739474e+01</td>\n",
       "      <td>4.353604e+00</td>\n",
       "      <td>5.871269e+01</td>\n",
       "      <td>9.933005e+02</td>\n",
       "      <td>2.022689e+03</td>\n",
       "      <td>6.593952e+00</td>\n",
       "      <td>1.572815e+01</td>\n",
       "    </tr>\n",
       "    <tr>\n",
       "      <th>min</th>\n",
       "      <td>2022-01-01 00:00:05</td>\n",
       "      <td>2022-01-01 00:01:48</td>\n",
       "      <td>2.022000e+03</td>\n",
       "      <td>1.000000e+00</td>\n",
       "      <td>1.000000e+00</td>\n",
       "      <td>0 days 00:00:00</td>\n",
       "      <td>-2.280000e+01</td>\n",
       "      <td>0.000000e+00</td>\n",
       "      <td>1.507547e+01</td>\n",
       "      <td>9.586000e+02</td>\n",
       "      <td>2.022000e+03</td>\n",
       "      <td>1.000000e+00</td>\n",
       "      <td>1.000000e+00</td>\n",
       "    </tr>\n",
       "    <tr>\n",
       "      <th>25%</th>\n",
       "      <td>2022-08-04 18:02:25.500000</td>\n",
       "      <td>2022-08-04 18:19:17</td>\n",
       "      <td>2.022000e+03</td>\n",
       "      <td>5.000000e+00</td>\n",
       "      <td>8.000000e+00</td>\n",
       "      <td>0 days 11:12:56</td>\n",
       "      <td>1.060000e+01</td>\n",
       "      <td>2.866667e+00</td>\n",
       "      <td>4.523333e+01</td>\n",
       "      <td>9.893600e+02</td>\n",
       "      <td>2.022000e+03</td>\n",
       "      <td>5.000000e+00</td>\n",
       "      <td>8.000000e+00</td>\n",
       "    </tr>\n",
       "    <tr>\n",
       "      <th>50%</th>\n",
       "      <td>2023-04-12 17:11:21</td>\n",
       "      <td>2023-04-12 17:27:46</td>\n",
       "      <td>2.023000e+03</td>\n",
       "      <td>7.000000e+00</td>\n",
       "      <td>1.600000e+01</td>\n",
       "      <td>0 days 15:26:42</td>\n",
       "      <td>1.940000e+01</td>\n",
       "      <td>4.184906e+00</td>\n",
       "      <td>5.891071e+01</td>\n",
       "      <td>9.932283e+02</td>\n",
       "      <td>2.023000e+03</td>\n",
       "      <td>7.000000e+00</td>\n",
       "      <td>1.600000e+01</td>\n",
       "    </tr>\n",
       "    <tr>\n",
       "      <th>75%</th>\n",
       "      <td>2023-09-08 12:05:13</td>\n",
       "      <td>2023-09-08 12:18:53.500000</td>\n",
       "      <td>2.023000e+03</td>\n",
       "      <td>9.000000e+00</td>\n",
       "      <td>2.300000e+01</td>\n",
       "      <td>0 days 18:08:37</td>\n",
       "      <td>2.494000e+01</td>\n",
       "      <td>5.701887e+00</td>\n",
       "      <td>7.225000e+01</td>\n",
       "      <td>9.970550e+02</td>\n",
       "      <td>2.023000e+03</td>\n",
       "      <td>9.000000e+00</td>\n",
       "      <td>2.300000e+01</td>\n",
       "    </tr>\n",
       "    <tr>\n",
       "      <th>max</th>\n",
       "      <td>2024-05-31 23:59:47</td>\n",
       "      <td>2024-06-01 17:56:00</td>\n",
       "      <td>2.024000e+03</td>\n",
       "      <td>1.200000e+01</td>\n",
       "      <td>3.100000e+01</td>\n",
       "      <td>0 days 23:59:59</td>\n",
       "      <td>3.830000e+01</td>\n",
       "      <td>1.650000e+01</td>\n",
       "      <td>1.000000e+02</td>\n",
       "      <td>1.016800e+03</td>\n",
       "      <td>2.024000e+03</td>\n",
       "      <td>1.200000e+01</td>\n",
       "      <td>3.100000e+01</td>\n",
       "    </tr>\n",
       "    <tr>\n",
       "      <th>std</th>\n",
       "      <td>NaN</td>\n",
       "      <td>NaN</td>\n",
       "      <td>6.846879e-01</td>\n",
       "      <td>2.746763e+00</td>\n",
       "      <td>8.774949e+00</td>\n",
       "      <td>0 days 04:52:43.867316925</td>\n",
       "      <td>9.627336e+00</td>\n",
       "      <td>2.177061e+00</td>\n",
       "      <td>1.735138e+01</td>\n",
       "      <td>6.276062e+00</td>\n",
       "      <td>6.846853e-01</td>\n",
       "      <td>2.746761e+00</td>\n",
       "      <td>8.774956e+00</td>\n",
       "    </tr>\n",
       "  </tbody>\n",
       "</table>\n",
       "</div>"
      ],
      "text/plain": [
       "                          started_at                       ended_at  \\\n",
       "count                        9969971                        9969971   \n",
       "mean   2023-03-13 02:04:12.545116416  2023-03-13 02:20:39.132660992   \n",
       "min              2022-01-01 00:00:05            2022-01-01 00:01:48   \n",
       "25%       2022-08-04 18:02:25.500000            2022-08-04 18:19:17   \n",
       "50%              2023-04-12 17:11:21            2023-04-12 17:27:46   \n",
       "75%              2023-09-08 12:05:13     2023-09-08 12:18:53.500000   \n",
       "max              2024-05-31 23:59:47            2024-06-01 17:56:00   \n",
       "std                              NaN                            NaN   \n",
       "\n",
       "             year_x       month_x         day_x              time_hms_ms_x  \\\n",
       "count  9.969971e+06  9.969971e+06  9.969971e+06                    9969971   \n",
       "mean   2.022689e+03  6.593871e+00  1.572793e+01  0 days 14:36:09.941747974   \n",
       "min    2.022000e+03  1.000000e+00  1.000000e+00            0 days 00:00:00   \n",
       "25%    2.022000e+03  5.000000e+00  8.000000e+00            0 days 11:12:56   \n",
       "50%    2.023000e+03  7.000000e+00  1.600000e+01            0 days 15:26:42   \n",
       "75%    2.023000e+03  9.000000e+00  2.300000e+01            0 days 18:08:37   \n",
       "max    2.024000e+03  1.200000e+01  3.100000e+01            0 days 23:59:59   \n",
       "std    6.846879e-01  2.746763e+00  8.774949e+00  0 days 04:52:43.867316925   \n",
       "\n",
       "        temperature    wind_speed  relative_humidity  station_level_pressure  \\\n",
       "count  9.969971e+06  9.969971e+06       9.969971e+06            9.969971e+06   \n",
       "mean   1.739474e+01  4.353604e+00       5.871269e+01            9.933005e+02   \n",
       "min   -2.280000e+01  0.000000e+00       1.507547e+01            9.586000e+02   \n",
       "25%    1.060000e+01  2.866667e+00       4.523333e+01            9.893600e+02   \n",
       "50%    1.940000e+01  4.184906e+00       5.891071e+01            9.932283e+02   \n",
       "75%    2.494000e+01  5.701887e+00       7.225000e+01            9.970550e+02   \n",
       "max    3.830000e+01  1.650000e+01       1.000000e+02            1.016800e+03   \n",
       "std    9.627336e+00  2.177061e+00       1.735138e+01            6.276062e+00   \n",
       "\n",
       "             year_y       month_y         day_y  \n",
       "count  9.969971e+06  9.969971e+06  9.969971e+06  \n",
       "mean   2.022689e+03  6.593952e+00  1.572815e+01  \n",
       "min    2.022000e+03  1.000000e+00  1.000000e+00  \n",
       "25%    2.022000e+03  5.000000e+00  8.000000e+00  \n",
       "50%    2.023000e+03  7.000000e+00  1.600000e+01  \n",
       "75%    2.023000e+03  9.000000e+00  2.300000e+01  \n",
       "max    2.024000e+03  1.200000e+01  3.100000e+01  \n",
       "std    6.846853e-01  2.746761e+00  8.774956e+00  "
      ]
     },
     "execution_count": 10,
     "metadata": {},
     "output_type": "execute_result"
    }
   ],
   "source": [
    "df_merged.describe()"
   ]
  },
  {
   "cell_type": "markdown",
   "id": "3e00d7ce",
   "metadata": {},
   "source": [
    "# Se observan las columnas finales"
   ]
  },
  {
   "cell_type": "code",
   "execution_count": 11,
   "id": "4214e42c",
   "metadata": {},
   "outputs": [
    {
     "data": {
      "text/plain": [
       "ride_id                            object\n",
       "rideable_type                      object\n",
       "started_at                 datetime64[ns]\n",
       "ended_at                   datetime64[ns]\n",
       "start_station_id                   object\n",
       "end_station_id                     object\n",
       "member_casual                      object\n",
       "year_x                              int64\n",
       "month_x                             int64\n",
       "day_x                               int64\n",
       "time_hms_ms_x             timedelta64[ns]\n",
       "day_type                           object\n",
       "event                                bool\n",
       "temperature                       float64\n",
       "wind_speed                        float64\n",
       "relative_humidity                 float64\n",
       "station_level_pressure            float64\n",
       "year_y                              int32\n",
       "month_y                             int32\n",
       "day_y                               int32\n",
       "time_hms_ms_y                      object\n",
       "dtype: object"
      ]
     },
     "execution_count": 11,
     "metadata": {},
     "output_type": "execute_result"
    }
   ],
   "source": [
    "df_merged.dtypes"
   ]
  },
  {
   "cell_type": "markdown",
   "id": "ba9637a5",
   "metadata": {},
   "source": [
    "# Se guardan los datos"
   ]
  },
  {
   "cell_type": "code",
   "execution_count": 12,
   "id": "6d508abf",
   "metadata": {},
   "outputs": [],
   "source": [
    "df_merged.to_pickle(\"../../data/join/df_data.pk1\")"
   ]
  },
  {
   "cell_type": "code",
   "execution_count": null,
   "id": "bc78175f",
   "metadata": {},
   "outputs": [],
   "source": []
  }
 ],
 "metadata": {
  "kernelspec": {
   "display_name": "tfm",
   "language": "python",
   "name": "python3"
  },
  "language_info": {
   "codemirror_mode": {
    "name": "ipython",
    "version": 3
   },
   "file_extension": ".py",
   "mimetype": "text/x-python",
   "name": "python",
   "nbconvert_exporter": "python",
   "pygments_lexer": "ipython3",
   "version": "3.11.13"
  }
 },
 "nbformat": 4,
 "nbformat_minor": 5
}
