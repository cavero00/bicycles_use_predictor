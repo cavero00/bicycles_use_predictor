{
 "cells": [
  {
   "cell_type": "code",
   "execution_count": 1,
   "id": "6c16cd10",
   "metadata": {},
   "outputs": [],
   "source": [
    "import pickle\n",
    "import os\n",
    "import sys\n",
    "\n",
    "sys.path.append(os.path.abspath(\"../../\"))\n",
    "\n",
    "from preprocesingScripts.bicycles.bicyclesAcquisition_2 import BicyclesAcq"
   ]
  },
  {
   "cell_type": "code",
   "execution_count": 3,
   "id": "e4bae172",
   "metadata": {},
   "outputs": [],
   "source": [
    "origin_path = r'D:\\masters\\master IA IMF\\TFM\\data\\bicycles\\raw'\n",
    "dest_dir = r'D:\\masters\\master IA IMF\\TFM\\data\\bicycles\\raw_excel'\n",
    "\n",
    "allowed_dirs = [\"2022\", \"2023\", \"2024\"]\n",
    "years = allowed_dirs\n",
    "\n",
    "# Estan a false porque la operacion ya se ha realizado y se ha guardado, de esta forma es mas rapido el prcesado de datos\n",
    "extract_files = False\n",
    "obtain_data = False"
   ]
  },
  {
   "cell_type": "markdown",
   "id": "223ca703",
   "metadata": {},
   "source": [
    "# Se otiene los datos"
   ]
  },
  {
   "cell_type": "code",
   "execution_count": 5,
   "id": "53287b8d",
   "metadata": {},
   "outputs": [],
   "source": [
    "data_operations = BicyclesAcq(years)\n",
    "\n",
    "# ------------------------------------------------------------------\n",
    "# -------------------- Obtain data --------------------\n",
    "if obtain_data:\n",
    "    dfs_per_directory = data_operations.obtain_data(\n",
    "        origin_path=origin_path,\n",
    "        allowed_dirs=allowed_dirs,\n",
    "        dest_dir=dest_dir,\n",
    "        extract_files=extract_files,\n",
    "        print_debug=True\n",
    "    )\n",
    "\n",
    "    # La variable obtenida es un diccionario de dataframes\n",
    "    with open(\"../../data/bicycles/df_bicycles_raw_per_year.pk1\", \"wb\") as f:\n",
    "        pickle.dump(dfs_per_directory, f)\n",
    "else:\n",
    "    # La variable obtenida es un diccionario de dataframes\n",
    "    with open(\"../../data/bicycles/df_bicycles_raw_per_year.pk1\", \"rb\") as f:\n",
    "        dfs_per_directory = pickle.load(f)"
   ]
  },
  {
   "cell_type": "markdown",
   "id": "ca2941c7",
   "metadata": {},
   "source": [
    "# Se observan los datos relevantes pra cada año como:\n",
    "- Cantidad de columnas\n",
    "- Tipos de columnas\n",
    "- Las dos primeras filas"
   ]
  },
  {
   "cell_type": "code",
   "execution_count": 6,
   "id": "0eaa05f2",
   "metadata": {},
   "outputs": [
    {
     "name": "stdout",
     "output_type": "stream",
     "text": [
      " -- 2022 -- \n",
      "13\n",
      "ride_id                object\n",
      "rideable_type          object\n",
      "started_at             object\n",
      "ended_at               object\n",
      "start_station_name     object\n",
      "start_station_id       object\n",
      "end_station_name       object\n",
      "end_station_id         object\n",
      "start_lat             float64\n",
      "start_lng             float64\n",
      "end_lat               float64\n",
      "end_lng               float64\n",
      "member_casual          object\n",
      "dtype: object\n",
      "            ride_id  rideable_type           started_at             ended_at  \\\n",
      "0  C2F7DD78E82EC875  electric_bike  2022-01-13 11:59:47  2022-01-13 12:02:44   \n",
      "1  A6CF8980A652D272  electric_bike  2022-01-10 08:41:56  2022-01-10 08:46:17   \n",
      "\n",
      "         start_station_name start_station_id      end_station_name  \\\n",
      "0  Glenwood Ave & Touhy Ave              525  Clark St & Touhy Ave   \n",
      "1  Glenwood Ave & Touhy Ave              525  Clark St & Touhy Ave   \n",
      "\n",
      "  end_station_id  start_lat  start_lng   end_lat    end_lng member_casual  \n",
      "0         RP-007  42.012800 -87.665906  42.01256 -87.674367        casual  \n",
      "1         RP-007  42.012763 -87.665967  42.01256 -87.674367        casual  \n",
      "\n",
      " -- 2023 -- \n",
      "13\n",
      "ride_id                object\n",
      "rideable_type          object\n",
      "started_at             object\n",
      "ended_at               object\n",
      "start_station_name     object\n",
      "start_station_id       object\n",
      "end_station_name       object\n",
      "end_station_id         object\n",
      "start_lat             float64\n",
      "start_lng             float64\n",
      "end_lat               float64\n",
      "end_lng               float64\n",
      "member_casual          object\n",
      "dtype: object\n",
      "            ride_id  rideable_type           started_at             ended_at  \\\n",
      "0  F96D5A74A3E41399  electric_bike  2023-01-21 20:05:42  2023-01-21 20:16:33   \n",
      "1  13CB7EB698CEDB88   classic_bike  2023-01-10 15:37:36  2023-01-10 15:46:05   \n",
      "\n",
      "            start_station_name start_station_id           end_station_name  \\\n",
      "0  Lincoln Ave & Fullerton Ave     TA1309000058  Hampden Ct & Diversey Ave   \n",
      "1        Kimbark Ave & 53rd St     TA1309000037    Greenwood Ave & 47th St   \n",
      "\n",
      "  end_station_id  start_lat  start_lng    end_lat    end_lng member_casual  \n",
      "0       202480.0  41.924074 -87.646278  41.930000 -87.640000        member  \n",
      "1   TA1308000002  41.799568 -87.594747  41.809835 -87.599383        member  \n",
      "\n",
      " -- 2024 -- \n",
      "13\n",
      "ride_id                object\n",
      "rideable_type          object\n",
      "started_at             object\n",
      "ended_at               object\n",
      "start_station_name     object\n",
      "start_station_id       object\n",
      "end_station_name       object\n",
      "end_station_id         object\n",
      "start_lat             float64\n",
      "start_lng             float64\n",
      "end_lat               float64\n",
      "end_lng               float64\n",
      "member_casual          object\n",
      "dtype: object\n",
      "            ride_id  rideable_type           started_at             ended_at  \\\n",
      "0  C1D650626C8C899A  electric_bike  2024-01-12 15:30:27  2024-01-12 15:37:59   \n",
      "1  EECD38BDB25BFCB0  electric_bike  2024-01-08 15:45:46  2024-01-08 15:52:59   \n",
      "\n",
      "  start_station_name start_station_id          end_station_name  \\\n",
      "0  Wells St & Elm St     KA1504000135  Kingsbury St & Kinzie St   \n",
      "1  Wells St & Elm St     KA1504000135  Kingsbury St & Kinzie St   \n",
      "\n",
      "  end_station_id  start_lat  start_lng    end_lat    end_lng member_casual  \n",
      "0   KA1503000043  41.903267 -87.634737  41.889177 -87.638506        member  \n",
      "1   KA1503000043  41.902937 -87.634440  41.889177 -87.638506        member  \n",
      "\n"
     ]
    }
   ],
   "source": [
    "for key, item in dfs_per_directory.items():\n",
    "    print(f\" -- {key} -- \")\n",
    "    print(len(item.dtypes))\n",
    "    print(item.dtypes)\n",
    "    print(item.head(2))\n",
    "    print()"
   ]
  },
  {
   "cell_type": "markdown",
   "id": "df40dfa1",
   "metadata": {},
   "source": [
    "# Se observan los valores únicos de:\n",
    "- rideable_type\n",
    "- member_casual"
   ]
  },
  {
   "cell_type": "code",
   "execution_count": 7,
   "id": "17a6d09c",
   "metadata": {},
   "outputs": [
    {
     "name": "stdout",
     "output_type": "stream",
     "text": [
      " -- 2022 -- \n",
      "Clave: rideable_type = ['electric_bike' 'classic_bike' 'docked_bike']\n",
      "Clave: member_casual = ['casual' 'member']\n",
      " -- 2023 -- \n",
      "Clave: rideable_type = ['electric_bike' 'classic_bike' 'docked_bike']\n",
      "Clave: member_casual = ['member' 'casual']\n",
      " -- 2024 -- \n",
      "Clave: rideable_type = ['electric_bike' 'classic_bike' 'electric_scooter']\n",
      "Clave: member_casual = ['member' 'casual']\n"
     ]
    }
   ],
   "source": [
    "for key, item in dfs_per_directory.items():\n",
    "    print(f\" -- {key} -- \")\n",
    "    \n",
    "    unique = data_operations.obtain_unique_values_list(\n",
    "        columns=[\"rideable_type\", \"member_casual\"],\n",
    "        df=item\n",
    "    )\n",
    "    \n",
    "    for k, i in unique.items():\n",
    "        print(f\"Clave: {k} = {i}\")"
   ]
  },
  {
   "cell_type": "markdown",
   "id": "1f8ad6ab",
   "metadata": {},
   "source": [
    "# Se obtienen los dato relacionados a las estaciones, se tranforma a un Dataframe y se guarda"
   ]
  },
  {
   "cell_type": "code",
   "execution_count": 8,
   "id": "47db728c",
   "metadata": {},
   "outputs": [
    {
     "name": "stdout",
     "output_type": "stream",
     "text": [
      "short_name      object\n",
      "lon            float64\n",
      "lat            float64\n",
      "capacity         int64\n",
      "rental_uris     object\n",
      "name            object\n",
      "station_id      object\n",
      "region_id       object\n",
      "address         object\n",
      "dtype: object\n",
      "  short_name        lon        lat  capacity  \\\n",
      "0   CHI00496 -87.648636  41.949074        16   \n",
      "1   CHI02133 -87.677220  41.912250        11   \n",
      "2   CHI00269 -87.673935  41.903119        23   \n",
      "3   CHI00752 -87.661198  42.001044        23   \n",
      "4   CHI01837 -87.670668  41.943350        16   \n",
      "\n",
      "                                                                                        rental_uris  \\\n",
      "0  {'android': 'https://chi.lft.to/lastmile_qr_scan', 'ios': 'https://chi.lft.to/lastmile_qr_scan'}   \n",
      "1  {'android': 'https://chi.lft.to/lastmile_qr_scan', 'ios': 'https://chi.lft.to/lastmile_qr_scan'}   \n",
      "2  {'android': 'https://chi.lft.to/lastmile_qr_scan', 'ios': 'https://chi.lft.to/lastmile_qr_scan'}   \n",
      "3  {'android': 'https://chi.lft.to/lastmile_qr_scan', 'ios': 'https://chi.lft.to/lastmile_qr_scan'}   \n",
      "4  {'android': 'https://chi.lft.to/lastmile_qr_scan', 'ios': 'https://chi.lft.to/lastmile_qr_scan'}   \n",
      "\n",
      "                       name                            station_id region_id  \\\n",
      "0   Broadway & Waveland Ave  a3aa4017-a135-11e9-9cda-0a87ae2ba916       NaN   \n",
      "1  Damen Ave & Wabansia Ave                   2131429867387521772       NaN   \n",
      "2   Honore St & Division St  a3a3b731-a135-11e9-9cda-0a87ae2ba916       NaN   \n",
      "3  Sheridan Rd & Loyola Ave  a3ae87fa-a135-11e9-9cda-0a87ae2ba916       NaN   \n",
      "4  Lincoln Ave & Roscoe St*  4843d153-c725-4230-a4c7-402da6a62143       NaN   \n",
      "\n",
      "  address  \n",
      "0     NaN  \n",
      "1     NaN  \n",
      "2     NaN  \n",
      "3     NaN  \n",
      "4     NaN  \n",
      "(1896, 9)\n"
     ]
    }
   ],
   "source": [
    "import pandas as pd\n",
    "\n",
    "# URL del feed GBFS\n",
    "url = \"https://gbfs.lyft.com/gbfs/2.3/chi/en/station_information.json\"\n",
    "\n",
    "# Leer directamente el JSON\n",
    "data = pd.read_json(url)\n",
    "\n",
    "# La información de las estaciones está dentro de data[\"data\"][\"stations\"]\n",
    "stations = pd.DataFrame(data[\"data\"][\"stations\"])\n",
    "\n",
    "print(stations.dtypes)\n",
    "print(stations.head())\n",
    "print(stations.shape)\n",
    "\n",
    "stations.to_pickle(\"../../data/bicycles/bicycles_stations.pk1\")"
   ]
  }
 ],
 "metadata": {
  "kernelspec": {
   "display_name": "tfm",
   "language": "python",
   "name": "python3"
  },
  "language_info": {
   "codemirror_mode": {
    "name": "ipython",
    "version": 3
   },
   "file_extension": ".py",
   "mimetype": "text/x-python",
   "name": "python",
   "nbconvert_exporter": "python",
   "pygments_lexer": "ipython3",
   "version": "3.11.13"
  }
 },
 "nbformat": 4,
 "nbformat_minor": 5
}
