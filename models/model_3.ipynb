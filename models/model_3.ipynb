{
 "cells": [
  {
   "cell_type": "markdown",
   "id": "af89b369",
   "metadata": {},
   "source": []
  },
  {
   "cell_type": "code",
   "execution_count": 1,
   "id": "0f88a434",
   "metadata": {},
   "outputs": [],
   "source": [
    "import matplotlib.pyplot as plt\n",
    "\n",
    "def show_history(history, model_name: str):\n",
    "    fig, (ax1, ax2) = plt.subplots(2, 1, figsize=(8, 10))  # 2 filas, 1 columna\n",
    "\n",
    "    # Pérdida (loss)\n",
    "    ax1.plot(history.history['loss'],     label='Training Loss',  color='green')\n",
    "    ax1.plot(history.history['val_loss'], label='Validation Loss', color='blue')\n",
    "    ax1.set_title('Loss evolution')\n",
    "    ax1.set_xlabel('Epochs')\n",
    "    ax1.set_ylabel('Loss')\n",
    "    ax1.legend()\n",
    "\n",
    "    # Precisión (accuracy)\n",
    "    ax2.plot(history.history['accuracy'],     label='Training Accuracy',  color='green')\n",
    "    ax2.plot(history.history['val_accuracy'], label='Validation Accuracy', color='blue')\n",
    "    ax2.set_title('Accuracy evolution')\n",
    "    ax2.set_xlabel('Epochs')\n",
    "    ax2.set_ylabel('Accuracy')\n",
    "    ax2.legend()\n",
    "\n",
    "    # Título global\n",
    "    fig.suptitle(model_name, fontsize=16)\n",
    "\n",
    "    # Ajustar márgenes\n",
    "    plt.tight_layout(rect=[0, 0, 1, 0.95])\n",
    "    plt.show()"
   ]
  },
  {
   "cell_type": "code",
   "execution_count": 2,
   "id": "b07a314f",
   "metadata": {},
   "outputs": [],
   "source": [
    "import pickle\n",
    "import pandas as pd\n",
    "import numpy as np\n",
    "\n",
    "pd.set_option(\"display.max_rows\", None)   # Muestra todas las filas\n",
    "pd.set_option(\"display.max_columns\", None)  # Muestra todas las columnas\n",
    "pd.set_option(\"display.width\", None)     # No corta la tabla en varias líneas\n",
    "pd.set_option(\"display.max_colwidth\", None)  # Muestra el contenido de celdas completo"
   ]
  },
  {
   "cell_type": "code",
   "execution_count": 3,
   "id": "47e34c4f",
   "metadata": {},
   "outputs": [],
   "source": [
    "with open(\"../data/normalized/df_normalized.pk1\", \"rb\") as f:\n",
    "    df_data = pickle.load(f)"
   ]
  },
  {
   "cell_type": "code",
   "execution_count": 4,
   "id": "4220b896",
   "metadata": {},
   "outputs": [],
   "source": [
    "df_model = df_data.drop(columns=[\n",
    "    \"ride_id\",\n",
    "    \"started_at\",\n",
    "    \"ended_at\",\n",
    "    \"start_station_id\",\n",
    "    \"end_station_id\",\n",
    "    \"member_casual\",\n",
    "    \"month\",\n",
    "    \"day\", # Se va a usar day_type desglosado en dummies\n",
    "    \"time_hms_ms\",\n",
    "    \"temperature\",\n",
    "    \"wind_speed\",\n",
    "    \"relative_humidity\"\n",
    "])"
   ]
  },
  {
   "cell_type": "code",
   "execution_count": 5,
   "id": "57729909",
   "metadata": {},
   "outputs": [
    {
     "data": {
      "text/html": [
       "<div>\n",
       "<style scoped>\n",
       "    .dataframe tbody tr th:only-of-type {\n",
       "        vertical-align: middle;\n",
       "    }\n",
       "\n",
       "    .dataframe tbody tr th {\n",
       "        vertical-align: top;\n",
       "    }\n",
       "\n",
       "    .dataframe thead th {\n",
       "        text-align: right;\n",
       "    }\n",
       "</style>\n",
       "<table border=\"1\" class=\"dataframe\">\n",
       "  <thead>\n",
       "    <tr style=\"text-align: right;\">\n",
       "      <th></th>\n",
       "      <th>year</th>\n",
       "      <th>event</th>\n",
       "      <th>rideable_type_classic_bike</th>\n",
       "      <th>rideable_type_docked_bike</th>\n",
       "      <th>rideable_type_electric_bike</th>\n",
       "      <th>member_casual_bool</th>\n",
       "      <th>day_type_Holiday</th>\n",
       "      <th>day_type_Normal</th>\n",
       "      <th>day_type_Weekend</th>\n",
       "      <th>temp_std</th>\n",
       "      <th>wind_std</th>\n",
       "      <th>rel_humidity_std</th>\n",
       "      <th>start_station_idx</th>\n",
       "      <th>end_station_idx</th>\n",
       "      <th>hour_float</th>\n",
       "      <th>hour_sin</th>\n",
       "      <th>hour_cos</th>\n",
       "      <th>month_sin</th>\n",
       "      <th>month_cos</th>\n",
       "      <th>duration_min</th>\n",
       "    </tr>\n",
       "  </thead>\n",
       "  <tbody>\n",
       "    <tr>\n",
       "      <th>0</th>\n",
       "      <td>2022</td>\n",
       "      <td>False</td>\n",
       "      <td>True</td>\n",
       "      <td>False</td>\n",
       "      <td>False</td>\n",
       "      <td>True</td>\n",
       "      <td>True</td>\n",
       "      <td>False</td>\n",
       "      <td>False</td>\n",
       "      <td>-0.996614</td>\n",
       "      <td>-1.035159</td>\n",
       "      <td>1.399734</td>\n",
       "      <td>1013</td>\n",
       "      <td>1013</td>\n",
       "      <td>0.001389</td>\n",
       "      <td>0.000364</td>\n",
       "      <td>1.000000</td>\n",
       "      <td>0.5</td>\n",
       "      <td>0.866025</td>\n",
       "      <td>1.716667</td>\n",
       "    </tr>\n",
       "    <tr>\n",
       "      <th>1</th>\n",
       "      <td>2022</td>\n",
       "      <td>False</td>\n",
       "      <td>False</td>\n",
       "      <td>False</td>\n",
       "      <td>True</td>\n",
       "      <td>True</td>\n",
       "      <td>True</td>\n",
       "      <td>False</td>\n",
       "      <td>False</td>\n",
       "      <td>-0.996614</td>\n",
       "      <td>-1.035159</td>\n",
       "      <td>1.399734</td>\n",
       "      <td>367</td>\n",
       "      <td>300</td>\n",
       "      <td>0.016667</td>\n",
       "      <td>0.004363</td>\n",
       "      <td>0.999990</td>\n",
       "      <td>0.5</td>\n",
       "      <td>0.866025</td>\n",
       "      <td>3.650000</td>\n",
       "    </tr>\n",
       "    <tr>\n",
       "      <th>2</th>\n",
       "      <td>2022</td>\n",
       "      <td>False</td>\n",
       "      <td>False</td>\n",
       "      <td>False</td>\n",
       "      <td>True</td>\n",
       "      <td>True</td>\n",
       "      <td>True</td>\n",
       "      <td>False</td>\n",
       "      <td>False</td>\n",
       "      <td>-0.996614</td>\n",
       "      <td>-1.035159</td>\n",
       "      <td>1.399734</td>\n",
       "      <td>1533</td>\n",
       "      <td>1533</td>\n",
       "      <td>0.021111</td>\n",
       "      <td>0.005527</td>\n",
       "      <td>0.999985</td>\n",
       "      <td>0.5</td>\n",
       "      <td>0.866025</td>\n",
       "      <td>30.966667</td>\n",
       "    </tr>\n",
       "    <tr>\n",
       "      <th>3</th>\n",
       "      <td>2022</td>\n",
       "      <td>False</td>\n",
       "      <td>True</td>\n",
       "      <td>False</td>\n",
       "      <td>False</td>\n",
       "      <td>True</td>\n",
       "      <td>True</td>\n",
       "      <td>False</td>\n",
       "      <td>False</td>\n",
       "      <td>-0.996614</td>\n",
       "      <td>-1.035159</td>\n",
       "      <td>1.399734</td>\n",
       "      <td>1013</td>\n",
       "      <td>1013</td>\n",
       "      <td>0.037222</td>\n",
       "      <td>0.009745</td>\n",
       "      <td>0.999953</td>\n",
       "      <td>0.5</td>\n",
       "      <td>0.866025</td>\n",
       "      <td>28.883333</td>\n",
       "    </tr>\n",
       "    <tr>\n",
       "      <th>4</th>\n",
       "      <td>2022</td>\n",
       "      <td>False</td>\n",
       "      <td>True</td>\n",
       "      <td>False</td>\n",
       "      <td>False</td>\n",
       "      <td>True</td>\n",
       "      <td>True</td>\n",
       "      <td>False</td>\n",
       "      <td>False</td>\n",
       "      <td>-0.996614</td>\n",
       "      <td>-1.035159</td>\n",
       "      <td>1.399734</td>\n",
       "      <td>1013</td>\n",
       "      <td>1013</td>\n",
       "      <td>0.043056</td>\n",
       "      <td>0.011272</td>\n",
       "      <td>0.999936</td>\n",
       "      <td>0.5</td>\n",
       "      <td>0.866025</td>\n",
       "      <td>28.483333</td>\n",
       "    </tr>\n",
       "  </tbody>\n",
       "</table>\n",
       "</div>"
      ],
      "text/plain": [
       "   year  event  rideable_type_classic_bike  rideable_type_docked_bike  \\\n",
       "0  2022  False                        True                      False   \n",
       "1  2022  False                       False                      False   \n",
       "2  2022  False                       False                      False   \n",
       "3  2022  False                        True                      False   \n",
       "4  2022  False                        True                      False   \n",
       "\n",
       "   rideable_type_electric_bike  member_casual_bool  day_type_Holiday  \\\n",
       "0                        False                True              True   \n",
       "1                         True                True              True   \n",
       "2                         True                True              True   \n",
       "3                        False                True              True   \n",
       "4                        False                True              True   \n",
       "\n",
       "   day_type_Normal  day_type_Weekend  temp_std  wind_std  rel_humidity_std  \\\n",
       "0            False             False -0.996614 -1.035159          1.399734   \n",
       "1            False             False -0.996614 -1.035159          1.399734   \n",
       "2            False             False -0.996614 -1.035159          1.399734   \n",
       "3            False             False -0.996614 -1.035159          1.399734   \n",
       "4            False             False -0.996614 -1.035159          1.399734   \n",
       "\n",
       "   start_station_idx  end_station_idx  hour_float  hour_sin  hour_cos  \\\n",
       "0               1013             1013    0.001389  0.000364  1.000000   \n",
       "1                367              300    0.016667  0.004363  0.999990   \n",
       "2               1533             1533    0.021111  0.005527  0.999985   \n",
       "3               1013             1013    0.037222  0.009745  0.999953   \n",
       "4               1013             1013    0.043056  0.011272  0.999936   \n",
       "\n",
       "   month_sin  month_cos  duration_min  \n",
       "0        0.5   0.866025      1.716667  \n",
       "1        0.5   0.866025      3.650000  \n",
       "2        0.5   0.866025     30.966667  \n",
       "3        0.5   0.866025     28.883333  \n",
       "4        0.5   0.866025     28.483333  "
      ]
     },
     "execution_count": 5,
     "metadata": {},
     "output_type": "execute_result"
    }
   ],
   "source": [
    "df_model.head()"
   ]
  },
  {
   "cell_type": "code",
   "execution_count": 6,
   "id": "d39f48d0",
   "metadata": {},
   "outputs": [],
   "source": [
    "# Variables de entrada\n",
    "X = df_model.drop(columns=['start_station_idx', 'end_station_idx'])\n",
    "y_start = df_model['start_station_idx']\n",
    "y_end   = df_model['end_station_idx']"
   ]
  },
  {
   "cell_type": "code",
   "execution_count": 7,
   "id": "924570ae",
   "metadata": {},
   "outputs": [
    {
     "name": "stdout",
     "output_type": "stream",
     "text": [
      "Number of stations: 1695\n",
      "Number of features: 18\n"
     ]
    },
    {
     "data": {
      "text/html": [
       "<pre style=\"white-space:pre;overflow-x:auto;line-height:normal;font-family:Menlo,'DejaVu Sans Mono',consolas,'Courier New',monospace\"><span style=\"font-weight: bold\">Model: \"functional\"</span>\n",
       "</pre>\n"
      ],
      "text/plain": [
       "\u001b[1mModel: \"functional\"\u001b[0m\n"
      ]
     },
     "metadata": {},
     "output_type": "display_data"
    },
    {
     "data": {
      "text/html": [
       "<pre style=\"white-space:pre;overflow-x:auto;line-height:normal;font-family:Menlo,'DejaVu Sans Mono',consolas,'Courier New',monospace\">┏━━━━━━━━━━━━━━━━━━━━━┳━━━━━━━━━━━━━━━━━━━┳━━━━━━━━━━━━┳━━━━━━━━━━━━━━━━━━━┓\n",
       "┃<span style=\"font-weight: bold\"> Layer (type)        </span>┃<span style=\"font-weight: bold\"> Output Shape      </span>┃<span style=\"font-weight: bold\">    Param # </span>┃<span style=\"font-weight: bold\"> Connected to      </span>┃\n",
       "┡━━━━━━━━━━━━━━━━━━━━━╇━━━━━━━━━━━━━━━━━━━╇━━━━━━━━━━━━╇━━━━━━━━━━━━━━━━━━━┩\n",
       "│ start_station_input │ (<span style=\"color: #00d7ff; text-decoration-color: #00d7ff\">None</span>, <span style=\"color: #00af00; text-decoration-color: #00af00\">1</span>)         │          <span style=\"color: #00af00; text-decoration-color: #00af00\">0</span> │ -                 │\n",
       "│ (<span style=\"color: #0087ff; text-decoration-color: #0087ff\">InputLayer</span>)        │                   │            │                   │\n",
       "├─────────────────────┼───────────────────┼────────────┼───────────────────┤\n",
       "│ end_station_input   │ (<span style=\"color: #00d7ff; text-decoration-color: #00d7ff\">None</span>, <span style=\"color: #00af00; text-decoration-color: #00af00\">1</span>)         │          <span style=\"color: #00af00; text-decoration-color: #00af00\">0</span> │ -                 │\n",
       "│ (<span style=\"color: #0087ff; text-decoration-color: #0087ff\">InputLayer</span>)        │                   │            │                   │\n",
       "├─────────────────────┼───────────────────┼────────────┼───────────────────┤\n",
       "│ start_embedding     │ (<span style=\"color: #00d7ff; text-decoration-color: #00d7ff\">None</span>, <span style=\"color: #00af00; text-decoration-color: #00af00\">1</span>, <span style=\"color: #00af00; text-decoration-color: #00af00\">42</span>)     │     <span style=\"color: #00af00; text-decoration-color: #00af00\">71,190</span> │ start_station_in… │\n",
       "│ (<span style=\"color: #0087ff; text-decoration-color: #0087ff\">Embedding</span>)         │                   │            │                   │\n",
       "├─────────────────────┼───────────────────┼────────────┼───────────────────┤\n",
       "│ end_embedding       │ (<span style=\"color: #00d7ff; text-decoration-color: #00d7ff\">None</span>, <span style=\"color: #00af00; text-decoration-color: #00af00\">1</span>, <span style=\"color: #00af00; text-decoration-color: #00af00\">42</span>)     │     <span style=\"color: #00af00; text-decoration-color: #00af00\">71,190</span> │ end_station_inpu… │\n",
       "│ (<span style=\"color: #0087ff; text-decoration-color: #0087ff\">Embedding</span>)         │                   │            │                   │\n",
       "├─────────────────────┼───────────────────┼────────────┼───────────────────┤\n",
       "│ context             │ (<span style=\"color: #00d7ff; text-decoration-color: #00d7ff\">None</span>, <span style=\"color: #00af00; text-decoration-color: #00af00\">18</span>)        │          <span style=\"color: #00af00; text-decoration-color: #00af00\">0</span> │ -                 │\n",
       "│ (<span style=\"color: #0087ff; text-decoration-color: #0087ff\">InputLayer</span>)        │                   │            │                   │\n",
       "├─────────────────────┼───────────────────┼────────────┼───────────────────┤\n",
       "│ flatten (<span style=\"color: #0087ff; text-decoration-color: #0087ff\">Flatten</span>)   │ (<span style=\"color: #00d7ff; text-decoration-color: #00d7ff\">None</span>, <span style=\"color: #00af00; text-decoration-color: #00af00\">42</span>)        │          <span style=\"color: #00af00; text-decoration-color: #00af00\">0</span> │ start_embedding[<span style=\"color: #00af00; text-decoration-color: #00af00\">…</span> │\n",
       "├─────────────────────┼───────────────────┼────────────┼───────────────────┤\n",
       "│ flatten_1 (<span style=\"color: #0087ff; text-decoration-color: #0087ff\">Flatten</span>) │ (<span style=\"color: #00d7ff; text-decoration-color: #00d7ff\">None</span>, <span style=\"color: #00af00; text-decoration-color: #00af00\">42</span>)        │          <span style=\"color: #00af00; text-decoration-color: #00af00\">0</span> │ end_embedding[<span style=\"color: #00af00; text-decoration-color: #00af00\">0</span>]… │\n",
       "├─────────────────────┼───────────────────┼────────────┼───────────────────┤\n",
       "│ concatenate         │ (<span style=\"color: #00d7ff; text-decoration-color: #00d7ff\">None</span>, <span style=\"color: #00af00; text-decoration-color: #00af00\">102</span>)       │          <span style=\"color: #00af00; text-decoration-color: #00af00\">0</span> │ context[<span style=\"color: #00af00; text-decoration-color: #00af00\">0</span>][<span style=\"color: #00af00; text-decoration-color: #00af00\">0</span>],    │\n",
       "│ (<span style=\"color: #0087ff; text-decoration-color: #0087ff\">Concatenate</span>)       │                   │            │ flatten[<span style=\"color: #00af00; text-decoration-color: #00af00\">0</span>][<span style=\"color: #00af00; text-decoration-color: #00af00\">0</span>],    │\n",
       "│                     │                   │            │ flatten_1[<span style=\"color: #00af00; text-decoration-color: #00af00\">0</span>][<span style=\"color: #00af00; text-decoration-color: #00af00\">0</span>]   │\n",
       "├─────────────────────┼───────────────────┼────────────┼───────────────────┤\n",
       "│ dense (<span style=\"color: #0087ff; text-decoration-color: #0087ff\">Dense</span>)       │ (<span style=\"color: #00d7ff; text-decoration-color: #00d7ff\">None</span>, <span style=\"color: #00af00; text-decoration-color: #00af00\">128</span>)       │     <span style=\"color: #00af00; text-decoration-color: #00af00\">13,184</span> │ concatenate[<span style=\"color: #00af00; text-decoration-color: #00af00\">0</span>][<span style=\"color: #00af00; text-decoration-color: #00af00\">0</span>] │\n",
       "├─────────────────────┼───────────────────┼────────────┼───────────────────┤\n",
       "│ dropout (<span style=\"color: #0087ff; text-decoration-color: #0087ff\">Dropout</span>)   │ (<span style=\"color: #00d7ff; text-decoration-color: #00d7ff\">None</span>, <span style=\"color: #00af00; text-decoration-color: #00af00\">128</span>)       │          <span style=\"color: #00af00; text-decoration-color: #00af00\">0</span> │ dense[<span style=\"color: #00af00; text-decoration-color: #00af00\">0</span>][<span style=\"color: #00af00; text-decoration-color: #00af00\">0</span>]       │\n",
       "├─────────────────────┼───────────────────┼────────────┼───────────────────┤\n",
       "│ dense_1 (<span style=\"color: #0087ff; text-decoration-color: #0087ff\">Dense</span>)     │ (<span style=\"color: #00d7ff; text-decoration-color: #00d7ff\">None</span>, <span style=\"color: #00af00; text-decoration-color: #00af00\">64</span>)        │      <span style=\"color: #00af00; text-decoration-color: #00af00\">8,256</span> │ dropout[<span style=\"color: #00af00; text-decoration-color: #00af00\">0</span>][<span style=\"color: #00af00; text-decoration-color: #00af00\">0</span>]     │\n",
       "├─────────────────────┼───────────────────┼────────────┼───────────────────┤\n",
       "│ end_station (<span style=\"color: #0087ff; text-decoration-color: #0087ff\">Dense</span>) │ (<span style=\"color: #00d7ff; text-decoration-color: #00d7ff\">None</span>, <span style=\"color: #00af00; text-decoration-color: #00af00\">1695</span>)      │    <span style=\"color: #00af00; text-decoration-color: #00af00\">110,175</span> │ dense_1[<span style=\"color: #00af00; text-decoration-color: #00af00\">0</span>][<span style=\"color: #00af00; text-decoration-color: #00af00\">0</span>]     │\n",
       "└─────────────────────┴───────────────────┴────────────┴───────────────────┘\n",
       "</pre>\n"
      ],
      "text/plain": [
       "┏━━━━━━━━━━━━━━━━━━━━━┳━━━━━━━━━━━━━━━━━━━┳━━━━━━━━━━━━┳━━━━━━━━━━━━━━━━━━━┓\n",
       "┃\u001b[1m \u001b[0m\u001b[1mLayer (type)       \u001b[0m\u001b[1m \u001b[0m┃\u001b[1m \u001b[0m\u001b[1mOutput Shape     \u001b[0m\u001b[1m \u001b[0m┃\u001b[1m \u001b[0m\u001b[1m   Param #\u001b[0m\u001b[1m \u001b[0m┃\u001b[1m \u001b[0m\u001b[1mConnected to     \u001b[0m\u001b[1m \u001b[0m┃\n",
       "┡━━━━━━━━━━━━━━━━━━━━━╇━━━━━━━━━━━━━━━━━━━╇━━━━━━━━━━━━╇━━━━━━━━━━━━━━━━━━━┩\n",
       "│ start_station_input │ (\u001b[38;5;45mNone\u001b[0m, \u001b[38;5;34m1\u001b[0m)         │          \u001b[38;5;34m0\u001b[0m │ -                 │\n",
       "│ (\u001b[38;5;33mInputLayer\u001b[0m)        │                   │            │                   │\n",
       "├─────────────────────┼───────────────────┼────────────┼───────────────────┤\n",
       "│ end_station_input   │ (\u001b[38;5;45mNone\u001b[0m, \u001b[38;5;34m1\u001b[0m)         │          \u001b[38;5;34m0\u001b[0m │ -                 │\n",
       "│ (\u001b[38;5;33mInputLayer\u001b[0m)        │                   │            │                   │\n",
       "├─────────────────────┼───────────────────┼────────────┼───────────────────┤\n",
       "│ start_embedding     │ (\u001b[38;5;45mNone\u001b[0m, \u001b[38;5;34m1\u001b[0m, \u001b[38;5;34m42\u001b[0m)     │     \u001b[38;5;34m71,190\u001b[0m │ start_station_in… │\n",
       "│ (\u001b[38;5;33mEmbedding\u001b[0m)         │                   │            │                   │\n",
       "├─────────────────────┼───────────────────┼────────────┼───────────────────┤\n",
       "│ end_embedding       │ (\u001b[38;5;45mNone\u001b[0m, \u001b[38;5;34m1\u001b[0m, \u001b[38;5;34m42\u001b[0m)     │     \u001b[38;5;34m71,190\u001b[0m │ end_station_inpu… │\n",
       "│ (\u001b[38;5;33mEmbedding\u001b[0m)         │                   │            │                   │\n",
       "├─────────────────────┼───────────────────┼────────────┼───────────────────┤\n",
       "│ context             │ (\u001b[38;5;45mNone\u001b[0m, \u001b[38;5;34m18\u001b[0m)        │          \u001b[38;5;34m0\u001b[0m │ -                 │\n",
       "│ (\u001b[38;5;33mInputLayer\u001b[0m)        │                   │            │                   │\n",
       "├─────────────────────┼───────────────────┼────────────┼───────────────────┤\n",
       "│ flatten (\u001b[38;5;33mFlatten\u001b[0m)   │ (\u001b[38;5;45mNone\u001b[0m, \u001b[38;5;34m42\u001b[0m)        │          \u001b[38;5;34m0\u001b[0m │ start_embedding[\u001b[38;5;34m…\u001b[0m │\n",
       "├─────────────────────┼───────────────────┼────────────┼───────────────────┤\n",
       "│ flatten_1 (\u001b[38;5;33mFlatten\u001b[0m) │ (\u001b[38;5;45mNone\u001b[0m, \u001b[38;5;34m42\u001b[0m)        │          \u001b[38;5;34m0\u001b[0m │ end_embedding[\u001b[38;5;34m0\u001b[0m]… │\n",
       "├─────────────────────┼───────────────────┼────────────┼───────────────────┤\n",
       "│ concatenate         │ (\u001b[38;5;45mNone\u001b[0m, \u001b[38;5;34m102\u001b[0m)       │          \u001b[38;5;34m0\u001b[0m │ context[\u001b[38;5;34m0\u001b[0m][\u001b[38;5;34m0\u001b[0m],    │\n",
       "│ (\u001b[38;5;33mConcatenate\u001b[0m)       │                   │            │ flatten[\u001b[38;5;34m0\u001b[0m][\u001b[38;5;34m0\u001b[0m],    │\n",
       "│                     │                   │            │ flatten_1[\u001b[38;5;34m0\u001b[0m][\u001b[38;5;34m0\u001b[0m]   │\n",
       "├─────────────────────┼───────────────────┼────────────┼───────────────────┤\n",
       "│ dense (\u001b[38;5;33mDense\u001b[0m)       │ (\u001b[38;5;45mNone\u001b[0m, \u001b[38;5;34m128\u001b[0m)       │     \u001b[38;5;34m13,184\u001b[0m │ concatenate[\u001b[38;5;34m0\u001b[0m][\u001b[38;5;34m0\u001b[0m] │\n",
       "├─────────────────────┼───────────────────┼────────────┼───────────────────┤\n",
       "│ dropout (\u001b[38;5;33mDropout\u001b[0m)   │ (\u001b[38;5;45mNone\u001b[0m, \u001b[38;5;34m128\u001b[0m)       │          \u001b[38;5;34m0\u001b[0m │ dense[\u001b[38;5;34m0\u001b[0m][\u001b[38;5;34m0\u001b[0m]       │\n",
       "├─────────────────────┼───────────────────┼────────────┼───────────────────┤\n",
       "│ dense_1 (\u001b[38;5;33mDense\u001b[0m)     │ (\u001b[38;5;45mNone\u001b[0m, \u001b[38;5;34m64\u001b[0m)        │      \u001b[38;5;34m8,256\u001b[0m │ dropout[\u001b[38;5;34m0\u001b[0m][\u001b[38;5;34m0\u001b[0m]     │\n",
       "├─────────────────────┼───────────────────┼────────────┼───────────────────┤\n",
       "│ end_station (\u001b[38;5;33mDense\u001b[0m) │ (\u001b[38;5;45mNone\u001b[0m, \u001b[38;5;34m1695\u001b[0m)      │    \u001b[38;5;34m110,175\u001b[0m │ dense_1[\u001b[38;5;34m0\u001b[0m][\u001b[38;5;34m0\u001b[0m]     │\n",
       "└─────────────────────┴───────────────────┴────────────┴───────────────────┘\n"
      ]
     },
     "metadata": {},
     "output_type": "display_data"
    },
    {
     "data": {
      "text/html": [
       "<pre style=\"white-space:pre;overflow-x:auto;line-height:normal;font-family:Menlo,'DejaVu Sans Mono',consolas,'Courier New',monospace\"><span style=\"font-weight: bold\"> Total params: </span><span style=\"color: #00af00; text-decoration-color: #00af00\">273,995</span> (1.05 MB)\n",
       "</pre>\n"
      ],
      "text/plain": [
       "\u001b[1m Total params: \u001b[0m\u001b[38;5;34m273,995\u001b[0m (1.05 MB)\n"
      ]
     },
     "metadata": {},
     "output_type": "display_data"
    },
    {
     "data": {
      "text/html": [
       "<pre style=\"white-space:pre;overflow-x:auto;line-height:normal;font-family:Menlo,'DejaVu Sans Mono',consolas,'Courier New',monospace\"><span style=\"font-weight: bold\"> Trainable params: </span><span style=\"color: #00af00; text-decoration-color: #00af00\">273,995</span> (1.05 MB)\n",
       "</pre>\n"
      ],
      "text/plain": [
       "\u001b[1m Trainable params: \u001b[0m\u001b[38;5;34m273,995\u001b[0m (1.05 MB)\n"
      ]
     },
     "metadata": {},
     "output_type": "display_data"
    },
    {
     "data": {
      "text/html": [
       "<pre style=\"white-space:pre;overflow-x:auto;line-height:normal;font-family:Menlo,'DejaVu Sans Mono',consolas,'Courier New',monospace\"><span style=\"font-weight: bold\"> Non-trainable params: </span><span style=\"color: #00af00; text-decoration-color: #00af00\">0</span> (0.00 B)\n",
       "</pre>\n"
      ],
      "text/plain": [
       "\u001b[1m Non-trainable params: \u001b[0m\u001b[38;5;34m0\u001b[0m (0.00 B)\n"
      ]
     },
     "metadata": {},
     "output_type": "display_data"
    }
   ],
   "source": [
    "from sklearn.model_selection import train_test_split\n",
    "import numpy as np\n",
    "import tensorflow as tf\n",
    "from tensorflow.keras import layers, Model\n",
    "\n",
    "X_train, X_test, y_start_train, y_start_test, y_end_train, y_end_test = train_test_split(\n",
    "    X, \n",
    "    y_start, \n",
    "    y_end, \n",
    "    test_size=0.2, \n",
    "    random_state=42\n",
    ")\n",
    "\n",
    "# ---------- Normalizar índices de estaciones con un offset común\n",
    "station_offset = int(min(y_start.min(), y_end.min()))\n",
    "# desplazamos todos para que el mínimo sea 0\n",
    "y_start_train_shift = (y_start_train - station_offset).astype(int)\n",
    "y_start_test_shift  = (y_start_test  - station_offset).astype(int)\n",
    "y_end_train_shift   = (y_end_train   - station_offset).astype(int)\n",
    "y_end_test_shift    = (y_end_test    - station_offset).astype(int)\n",
    "\n",
    "num_stations = int(max(y_start.max(), y_end.max()) - station_offset + 1)\n",
    "num_features = X.shape[1]\n",
    "\n",
    "print(f\"Number of stations: {num_stations}\")\n",
    "print(f\"Number of features: {num_features}\")\n",
    "\n",
    "# ---------- Preparar inputs en la forma que requieren los Embeddings: (n,1)\n",
    "X_train_context = X_train.values.astype(np.float32)\n",
    "X_test_context  = X_test.values.astype(np.float32)\n",
    "\n",
    "start_train_input = y_start_train_shift.values.reshape(-1, 1)\n",
    "start_test_input  = y_start_test_shift.values.reshape(-1, 1)\n",
    "\n",
    "# Si usas la estación final también como entrada (teacher forcing), la prepares:\n",
    "end_train_input = y_end_train_shift.values.reshape(-1, 1)\n",
    "end_test_input  = y_end_test_shift.values.reshape(-1, 1)\n",
    "\n",
    "# Labels (etiquetas) para clasificación: estación destino (y_end)\n",
    "y_train_labels = y_end_train_shift.values.astype(int)\n",
    "y_test_labels  = y_end_test_shift.values.astype(int)\n",
    "\n",
    "# ---------- Opcional: split del train en train/val\n",
    "X_t_ctx, X_val_ctx, start_t_in, start_val_in, end_t_in, end_val_in, y_t, y_val = train_test_split(\n",
    "    X_train_context,\n",
    "    start_train_input,\n",
    "    end_train_input,\n",
    "    y_train_labels,\n",
    "    test_size=0.2,\n",
    "    random_state=42\n",
    ")\n",
    "\n",
    "# ---------- Construcción del modelo (inputs y embeddings)\n",
    "embedding_dim = int(np.ceil(np.sqrt(num_stations)))\n",
    "\n",
    "context_input = layers.Input(shape=(num_features,), name=\"context\")\n",
    "start_input   = layers.Input(shape=(1,), name=\"start_station_input\")\n",
    "end_input     = layers.Input(shape=(1,), name=\"end_station_input\")\n",
    "\n",
    "start_embed = layers.Embedding(input_dim=num_stations, output_dim=embedding_dim, name='start_embedding')(start_input)\n",
    "start_embed = layers.Flatten()(start_embed)\n",
    "\n",
    "end_embed = layers.Embedding(input_dim=num_stations, output_dim=embedding_dim, name='end_embedding')(end_input)\n",
    "end_embed = layers.Flatten()(end_embed)\n",
    "\n",
    "x = layers.Concatenate()([context_input, start_embed, end_embed])\n",
    "x = layers.Dense(128, activation='relu', kernel_regularizer=tf.keras.regularizers.l2(1e-4))(x)\n",
    "x = layers.Dropout(0.2)(x)\n",
    "x = layers.Dense(64, activation='relu', kernel_regularizer=tf.keras.regularizers.l2(1e-4))(x)\n",
    "\n",
    "end_output = layers.Dense(num_stations, activation='softmax', name='end_station')(x)\n",
    "\n",
    "model = Model(inputs=[context_input, start_input, end_input], outputs=end_output)\n",
    "model.compile(optimizer='adam', loss='sparse_categorical_crossentropy', metrics=['accuracy'])\n",
    "model.summary()"
   ]
  },
  {
   "cell_type": "code",
   "execution_count": 8,
   "id": "0a46277f",
   "metadata": {},
   "outputs": [
    {
     "name": "stdout",
     "output_type": "stream",
     "text": [
      "Epoch 1/20\n",
      "\u001b[1m49850/49850\u001b[0m \u001b[32m━━━━━━━━━━━━━━━━━━━━\u001b[0m\u001b[37m\u001b[0m \u001b[1m159s\u001b[0m 3ms/step - accuracy: 0.1986 - loss: 3.7818 - val_accuracy: 0.5411 - val_loss: 2.0907\n",
      "Epoch 2/20\n",
      "\u001b[1m49850/49850\u001b[0m \u001b[32m━━━━━━━━━━━━━━━━━━━━\u001b[0m\u001b[37m\u001b[0m \u001b[1m160s\u001b[0m 3ms/step - accuracy: 0.6936 - loss: 1.3648 - val_accuracy: 0.8688 - val_loss: 0.6231\n",
      "Epoch 3/20\n",
      "\u001b[1m49850/49850\u001b[0m \u001b[32m━━━━━━━━━━━━━━━━━━━━\u001b[0m\u001b[37m\u001b[0m \u001b[1m159s\u001b[0m 3ms/step - accuracy: 0.9054 - loss: 0.4701 - val_accuracy: 0.9677 - val_loss: 0.2127\n",
      "Epoch 4/20\n",
      "\u001b[1m49850/49850\u001b[0m \u001b[32m━━━━━━━━━━━━━━━━━━━━\u001b[0m\u001b[37m\u001b[0m \u001b[1m168s\u001b[0m 3ms/step - accuracy: 0.9546 - loss: 0.2655 - val_accuracy: 0.9789 - val_loss: 0.1713\n",
      "Epoch 5/20\n",
      "\u001b[1m49850/49850\u001b[0m \u001b[32m━━━━━━━━━━━━━━━━━━━━\u001b[0m\u001b[37m\u001b[0m \u001b[1m187s\u001b[0m 4ms/step - accuracy: 0.9648 - loss: 0.2145 - val_accuracy: 0.9818 - val_loss: 0.1187\n",
      "Epoch 6/20\n",
      "\u001b[1m49850/49850\u001b[0m \u001b[32m━━━━━━━━━━━━━━━━━━━━\u001b[0m\u001b[37m\u001b[0m \u001b[1m191s\u001b[0m 4ms/step - accuracy: 0.9684 - loss: 0.1925 - val_accuracy: 0.9595 - val_loss: 0.1649\n",
      "Epoch 7/20\n",
      "\u001b[1m49850/49850\u001b[0m \u001b[32m━━━━━━━━━━━━━━━━━━━━\u001b[0m\u001b[37m\u001b[0m \u001b[1m185s\u001b[0m 4ms/step - accuracy: 0.9707 - loss: 0.1813 - val_accuracy: 0.9291 - val_loss: 0.2694\n",
      "Epoch 8/20\n",
      "\u001b[1m49850/49850\u001b[0m \u001b[32m━━━━━━━━━━━━━━━━━━━━\u001b[0m\u001b[37m\u001b[0m \u001b[1m186s\u001b[0m 4ms/step - accuracy: 0.9717 - loss: 0.1767 - val_accuracy: 0.9660 - val_loss: 0.1550\n",
      "CPU times: total: 1h 43min 47s\n",
      "Wall time: 23min 16s\n"
     ]
    }
   ],
   "source": [
    "%%time\n",
    "\n",
    "# ---------- Callbacks\n",
    "callback = tf.keras.callbacks.EarlyStopping(monitor='val_loss', patience=3, restore_best_weights=True)\n",
    "\n",
    "# ---------- Entrenamiento usando validation_data (más explícito y claro)\n",
    "history = model.fit(\n",
    "    {'context': X_t_ctx, 'start_station_input': start_t_in, 'end_station_input': end_t_in},\n",
    "    y_t,\n",
    "    validation_data=(\n",
    "        {'context': X_val_ctx, 'start_station_input': start_val_in, 'end_station_input': end_val_in},\n",
    "        y_val\n",
    "    ),\n",
    "    epochs=20,\n",
    "    batch_size=128,\n",
    "    callbacks=[callback]\n",
    ")"
   ]
  },
  {
   "cell_type": "code",
   "execution_count": 9,
   "id": "1032ba3f",
   "metadata": {},
   "outputs": [
    {
     "data": {
      "image/png": "[encoded data removed]",
      "text/plain": [
       "<Figure size 800x1000 with 2 Axes>"
      ]
     },
     "metadata": {},
     "output_type": "display_data"
    }
   ],
   "source": [
    "show_history(history, \"Simple model with start and end station embeddings\")"
   ]
  },
  {
   "cell_type": "code",
   "execution_count": 10,
   "id": "83aea110",
   "metadata": {},
   "outputs": [
    {
     "name": "stdout",
     "output_type": "stream",
     "text": [
      "62312/62312 - 78s - 1ms/step - accuracy: 0.9818 - loss: 0.1185\n",
      "Test metrics (loss, accuracy): [0.11853863298892975, 0.9818412065505981]\n"
     ]
    }
   ],
   "source": [
    "# ---------- Evaluación final sobre el test set real\n",
    "test_metrics = model.evaluate(\n",
    "    {'context': X_test_context, 'start_station_input': start_test_input, 'end_station_input': end_test_input},\n",
    "    y_test_labels,\n",
    "    verbose=2\n",
    ")\n",
    "print(\"Test metrics (loss, accuracy):\", test_metrics)"
   ]
  },
  {
   "cell_type": "code",
   "execution_count": 11,
   "id": "028de380",
   "metadata": {},
   "outputs": [],
   "source": [
    "model.save(\"modelSave/model_3.keras\")"
   ]
  }
 ],
 "metadata": {
  "kernelspec": {
   "display_name": "tfm",
   "language": "python",
   "name": "python3"
  },
  "language_info": {
   "codemirror_mode": {
    "name": "ipython",
    "version": 3
   },
   "file_extension": ".py",
   "mimetype": "text/x-python",
   "name": "python",
   "nbconvert_exporter": "python",
   "pygments_lexer": "ipython3",
   "version": "3.11.13"
  }
 },
 "nbformat": 4,
 "nbformat_minor": 5
}
